{
 "cells": [
  {
   "cell_type": "code",
   "execution_count": null,
   "metadata": {},
   "outputs": [],
   "source": [
    "print(\"\\nWelcome to Mad Libs game:\\n\")\n",
    "w1 = input('Noun (tip, it is a sibling): ')\n",
    "w2 = input('Noun: ')\n",
    "w3 = input('Adjective: ')\n",
    "w4 = input('Noun: ')\n",
    "w5 = input('Verb in present tense: ')\n",
    "w6 = input('Verb in past tense: ')\n",
    "w7 = input('Noun :  ')\n",
    "w8 = input('Adjective: ')\n",
    "w9 = input('Adjective (it describes a feeling): ')\n",
    "\n",
    "a=\"sister\"\n",
    "b=\"tree\"\n",
    "c=\"hungry\"\n",
    "d=\"bread\"\n",
    "e=\"eat\"\n",
    "f=\"heard\"\n",
    "g=\"food\"\n",
    "h=\"warm\"\n",
    "i=\"happy\"\n",
    "\n",
    "\n",
    "with open('hungrybird.txt','w') as file:\n",
    "    file.write(\"\\nThe baby bird was in his nest. He was in his nest with his sister. Their nest was high up in the tree.\\nThey were waiting for mama bird. Mom always brought them food. They were hungry. When would mom come home?Would she bring them a worm?\\nWould she bring them a fish? Would she bring them a piece of bread? What would mom bring them?\\nThey looked at the squirrel nest. The birds looked at the nut. How could they eat a nut? They didn't have strong teeth. The squirrel has strong teeth.\\nThe baby birds had no teeth. They had beaks, but no teeth.  They heard mom. They knew her voice. They knew the sound of her wings.\\nShe brought them some food. It was still warm. It was delicious.It was pizza. It was pizza with cheese. Baby birds love pizza with cheese.\\nThey were so happy. How delicious!\\n\")\n",
    "    file.close()\n",
    "    pass\n",
    "with open(\"hungrybird.txt\",\"r\") as infile,\\\n",
    "     open(\"h_b_modified.txt\",\"w\") as outfile:\n",
    "    var=infile.read()  \n",
    "    var=var.replace(a,w1).replace(b,w2).replace(c,w3).replace(d,w4).replace(e,w5).replace(f,w6).replace(g,w7).replace(h,w8).replace(i,w9) \n",
    "    outfile.write(var)\n",
    "with open(\"h_b_modified.txt\",\"r\") as file:\n",
    "    var=file.read()\n",
    "    print(var)\n",
    "\n",
    "\n",
    "\n"
   ]
  }
 ],
 "metadata": {
  "kernelspec": {
   "display_name": "Python 3",
   "language": "python",
   "name": "python3"
  },
  "language_info": {
   "codemirror_mode": {
    "name": "ipython",
    "version": 3
   },
   "file_extension": ".py",
   "mimetype": "text/x-python",
   "name": "python",
   "nbconvert_exporter": "python",
   "pygments_lexer": "ipython3",
   "version": "3.11.1 (tags/v3.11.1:a7a450f, Dec  6 2022, 19:58:39) [MSC v.1934 64 bit (AMD64)]"
  },
  "orig_nbformat": 4,
  "vscode": {
   "interpreter": {
    "hash": "c261aea317cc0286b3b3261fbba9abdec21eaa57589985bb7a274bf54d6cc0a7"
   }
  }
 },
 "nbformat": 4,
 "nbformat_minor": 2
}
