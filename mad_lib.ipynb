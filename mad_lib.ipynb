{
 "cells": [
  {
   "cell_type": "code",
   "execution_count": 2,
   "metadata": {},
   "outputs": [
    {
     "name": "stdout",
     "output_type": "stream",
     "text": [
      "Welcome to Mad Libs game:\n",
      "\n",
      "The baby bird was in his nest. He was in his nest with his 1. Their nest was high up in the 2. They were waiting for mama bird. Mum always brought them food. They were 3. When would mum come home? Would she bring them a worm? Would she bring them a fish? Would she bring them a 4? What would mum bring them? They looked at the squirrel. The squirrel looked at them. The squirrel put a nut in their nest. The birds looked at the nut. How could they 5 a nut? They didn’t have strong teeth. The squirrel has strong teeth. The baby birds had no teeth. They had beaks, but no teeth. They 6 mum. They knew her voice. They knew the sound of her wings. She brought them some 7. It was still 8. They were so 9. How delicious!\n",
      "\n"
     ]
    }
   ],
   "source": [
    "print(\"Welcome to Mad Libs game:\")\n",
    "w1 = input('Noun (tip, it is a sibling): ')\n",
    "w2 = input('Noun: ')\n",
    "w3 = input('Adjective: ')\n",
    "w4 = input('Noun: ')\n",
    "w5 = input('Verb in present tense: ')\n",
    "w6 = input('Verb in past tense: ')\n",
    "w7 = input('Noun :  ')\n",
    "w8 = input('Adjective: ')\n",
    "w9 = input('Adjective (it describes a feeling): ')\n",
    "\n",
    "import colorama\n",
    "from colorama import Fore\n",
    "\n",
    "text = f'''\n",
    "The baby bird was in his nest. He was in his nest with his {w1}. Their nest was high up in the {w2}. They were waiting for mama bird. Mum always brought them food. They were {w3}. When would mum come home? Would she bring them a worm? Would she bring them a fish? Would she bring them a {w4}? What would mum bring them? They looked at the squirrel. The squirrel looked at them. The squirrel put a nut in their nest. The birds looked at the nut. How could they {w5} a nut? They didn’t have strong teeth. The squirrel has strong teeth. The baby birds had no teeth. They had beaks, but no teeth. They {w6} mum. They knew her voice. They knew the sound of her wings. She brought them some {w7}. It was still {w8}. They were so {w9}. How delicious!\n",
    "'''\n",
    "\n",
    "print(text)\n",
    "\n",
    "\n",
    "\n",
    "\n"
   ]
  }
 ],
 "metadata": {
  "kernelspec": {
   "display_name": "Python 3",
   "language": "python",
   "name": "python3"
  },
  "language_info": {
   "codemirror_mode": {
    "name": "ipython",
    "version": 3
   },
   "file_extension": ".py",
   "mimetype": "text/x-python",
   "name": "python",
   "nbconvert_exporter": "python",
   "pygments_lexer": "ipython3",
   "version": "3.11.1 (tags/v3.11.1:a7a450f, Dec  6 2022, 19:58:39) [MSC v.1934 64 bit (AMD64)]"
  },
  "orig_nbformat": 4,
  "vscode": {
   "interpreter": {
    "hash": "c261aea317cc0286b3b3261fbba9abdec21eaa57589985bb7a274bf54d6cc0a7"
   }
  }
 },
 "nbformat": 4,
 "nbformat_minor": 2
}
