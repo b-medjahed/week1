{
 "cells": [
  {
   "cell_type": "code",
   "execution_count": 2,
   "metadata": {},
   "outputs": [
    {
     "name": "stdout",
     "output_type": "stream",
     "text": [
      "Are you up for Guess The Number Challenge?\n",
      "\n",
      "Incorrect guess. Your number is low! You used  1  attempt(s)\n",
      "Incorrect guess. Your number is low! You used  2  attempt(s)\n",
      "Incorrect guess. Your number is low! You used  3  attempt(s)\n",
      "Incorrect guess. Your number is low! You used  4  attempt(s)\n",
      "Incorrect guess. Your number is low! You used  5  attempt(s)\n",
      "Incorrect guess. Your number is low! You used  6  attempt(s)\n",
      "Incorrect guess. Your number is low! You used  7  attempt(s)\n",
      "Sorry! You have used up your seven attempts.  The answer is  83\n"
     ]
    }
   ],
   "source": [
    "import random\n",
    "my_number=random.randint(1,100)\n",
    "print(\"Are you up for Guess The Number Challenge?\\n\")\n",
    "\n",
    "choice=input(\"Type in y for yes Or n for no: \")\n",
    "\n",
    "while choice!=\"y\" and choice!=\"n\":\n",
    "  choice=input(\"Invalid answer! Please type in y for yes Or n for no: \")\n",
    "\n",
    "attempt=1\n",
    "\n",
    "while True:\n",
    "  if attempt>7 :\n",
    "    print(\"Sorry! You have used up your seven attempts. \",\"The answer is \", my_number,\"!\")\n",
    "    break\n",
    "   \n",
    "  user_number=int(input(\"Please enter a number between 1 and 100: \"))\n",
    "   \n",
    "  if user_number==my_number:\n",
    "     print(\"Well done. You guessed right!\",\"You used \", attempt,\" attempt(s)\")\n",
    "     break\n",
    "  if my_number>user_number:\n",
    "     print(\"Incorrect guess. Your number is low!\",\"You used \", attempt,\" attempt(s)\")\n",
    "     attempt+=1\n",
    "  else:\n",
    "     print(\"Incorrect guess. Your number is high!\",\"You used \", attempt,\" attempt(s)\")\n",
    "     attempt+=1\n",
    "\n",
    "   \n",
    "\n",
    "\n",
    "\n"
   ]
  }
 ],
 "metadata": {
  "kernelspec": {
   "display_name": "Python 3",
   "language": "python",
   "name": "python3"
  },
  "language_info": {
   "codemirror_mode": {
    "name": "ipython",
    "version": 3
   },
   "file_extension": ".py",
   "mimetype": "text/x-python",
   "name": "python",
   "nbconvert_exporter": "python",
   "pygments_lexer": "ipython3",
   "version": "3.11.1 (tags/v3.11.1:a7a450f, Dec  6 2022, 19:58:39) [MSC v.1934 64 bit (AMD64)]"
  },
  "orig_nbformat": 4,
  "vscode": {
   "interpreter": {
    "hash": "c261aea317cc0286b3b3261fbba9abdec21eaa57589985bb7a274bf54d6cc0a7"
   }
  }
 },
 "nbformat": 4,
 "nbformat_minor": 2
}
