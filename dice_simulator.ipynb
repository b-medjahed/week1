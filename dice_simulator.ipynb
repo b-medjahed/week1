{
 "cells": [
  {
   "cell_type": "code",
   "execution_count": 1,
   "metadata": {},
   "outputs": [
    {
     "name": "stdout",
     "output_type": "stream",
     "text": [
      "Your result is:  2\n",
      "Your result is:  1\n",
      "Your result is:  6\n",
      "Please make sure that you select the right option (y for yes or n for no).\n",
      "See you next time!\n"
     ]
    }
   ],
   "source": [
    "choice= input(\"would you like to roll a 1 to 6 die (y/n)? \") \n",
    "\n",
    "while True:\n",
    "   while choice!=\"y\" and choice!=\"n\" :\n",
    "      print(\"Please make sure that you select the right option (y for yes or n for no).\")\n",
    "      choice= input(\"would you like to roll a 1 to 6 die (y/n)? \") \n",
    "   if choice==\"y\" :\n",
    "      while choice==\"y\" :\n",
    "            import random\n",
    "            number=random.randint(1,6)\n",
    "            print(\"Your result is: \", number)\n",
    "            choice= input(\"would like to roll again (y/n)? \")\n",
    "   if choice==\"n\":\n",
    "      print(\"See you next time!\")\n",
    "      break\n",
    "   \n",
    "       \n",
    "       \n"
   ]
  }
 ],
 "metadata": {
  "kernelspec": {
   "display_name": "Python 3",
   "language": "python",
   "name": "python3"
  },
  "language_info": {
   "codemirror_mode": {
    "name": "ipython",
    "version": 3
   },
   "file_extension": ".py",
   "mimetype": "text/x-python",
   "name": "python",
   "nbconvert_exporter": "python",
   "pygments_lexer": "ipython3",
   "version": "3.11.1 (tags/v3.11.1:a7a450f, Dec  6 2022, 19:58:39) [MSC v.1934 64 bit (AMD64)]"
  },
  "orig_nbformat": 4,
  "vscode": {
   "interpreter": {
    "hash": "c261aea317cc0286b3b3261fbba9abdec21eaa57589985bb7a274bf54d6cc0a7"
   }
  }
 },
 "nbformat": 4,
 "nbformat_minor": 2
}
